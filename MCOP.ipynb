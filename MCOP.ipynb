{
 "cells": [
  {
   "cell_type": "markdown",
   "metadata": {},
   "source": [
    "#1. Overview\n",
    "Monte Carlo simulations provide a methodology for addressing probabilistic challenges\n",
    "through the artificial numerical creation of numerous potential scenarios. This approach enables\n",
    "the computation of statistical characteristics of the results, including expected values and the\n",
    "variance of probabilities associated with specific outcomes. Applied to financial options which is\n",
    "notoriously difficult to price (as their underlying assets has a large dimensionality and the\n",
    "performance of other numerical methods typically suffer from the “curse of dimensionality”)\n",
    "Monte Carlo simulation steps in as a valuable tool for pricing intricate derivatives when\n",
    "analytical formulas are not feasible and we have to result to data generation. Finally this will\n",
    "culminate in an option pricing model that uses the randomly generated paths to calculate the\n",
    "associated payoff of the option for each path."
   ]
  },
  {
   "cell_type": "code",
   "execution_count": null,
   "metadata": {},
   "outputs": [],
   "source": []
  }
 ],
 "metadata": {
  "kernelspec": {
   "display_name": "Python 3",
   "language": "python",
   "name": "python3"
  },
  "language_info": {
   "codemirror_mode": {
    "name": "ipython",
    "version": 3
   },
   "file_extension": ".py",
   "mimetype": "text/x-python",
   "name": "python",
   "nbconvert_exporter": "python",
   "pygments_lexer": "ipython3",
   "version": "3.9.10"
  }
 },
 "nbformat": 4,
 "nbformat_minor": 2
}
